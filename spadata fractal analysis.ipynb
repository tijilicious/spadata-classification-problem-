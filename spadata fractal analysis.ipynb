{
 "cells": [
  {
   "cell_type": "code",
   "execution_count": 1,
   "metadata": {},
   "outputs": [],
   "source": [
    "import pandas as pd\n",
    "import numpy as np\n",
    "from matplotlib import pyplot as plt"
   ]
  },
  {
   "cell_type": "code",
   "execution_count": 2,
   "metadata": {},
   "outputs": [],
   "source": [
    "df=pd.read_csv('SpaData.csv')"
   ]
  },
  {
   "cell_type": "code",
   "execution_count": 3,
   "metadata": {},
   "outputs": [
    {
     "name": "stdout",
     "output_type": "stream",
     "text": [
      "<class 'pandas.core.frame.DataFrame'>\n",
      "RangeIndex: 6514 entries, 0 to 6513\n",
      "Data columns (total 8 columns):\n",
      " #   Column            Non-Null Count  Dtype  \n",
      "---  ------            --------------  -----  \n",
      " 0   ID                6514 non-null   int64  \n",
      " 1   TimeStamp         6514 non-null   object \n",
      " 2   Temperature       6514 non-null   float64\n",
      " 3   RelativeHumidity  6514 non-null   float64\n",
      " 4   Light             6514 non-null   float64\n",
      " 5   OxygenLevels      6514 non-null   float64\n",
      " 6   HumidityRatio     6514 non-null   float64\n",
      " 7   GTOccupancy       6514 non-null   int64  \n",
      "dtypes: float64(5), int64(2), object(1)\n",
      "memory usage: 407.2+ KB\n"
     ]
    }
   ],
   "source": [
    "df.info()"
   ]
  },
  {
   "cell_type": "code",
   "execution_count": 4,
   "metadata": {},
   "outputs": [
    {
     "data": {
      "text/plain": [
       "<bound method IndexOpsMixin.value_counts of 0       2342\n",
       "1       6419\n",
       "2       3330\n",
       "3       7188\n",
       "4       7655\n",
       "        ... \n",
       "6509    7362\n",
       "6510    1591\n",
       "6511    4629\n",
       "6512    3657\n",
       "6513    7983\n",
       "Name: ID, Length: 6514, dtype: int64>"
      ]
     },
     "execution_count": 4,
     "metadata": {},
     "output_type": "execute_result"
    }
   ],
   "source": [
    "df['ID'].value_counts"
   ]
  },
  {
   "cell_type": "code",
   "execution_count": 5,
   "metadata": {},
   "outputs": [
    {
     "data": {
      "text/plain": [
       "GTOccupancy         1.000000\n",
       "Light               0.910707\n",
       "OxygenLevels        0.711426\n",
       "Temperature         0.544737\n",
       "HumidityRatio       0.293591\n",
       "RelativeHumidity    0.123522\n",
       "ID                 -0.111496\n",
       "Name: GTOccupancy, dtype: float64"
      ]
     },
     "execution_count": 5,
     "metadata": {},
     "output_type": "execute_result"
    }
   ],
   "source": [
    "correlation=df.corr()\n",
    "correlation['GTOccupancy'].sort_values(ascending=False)"
   ]
  },
  {
   "cell_type": "code",
   "execution_count": 6,
   "metadata": {},
   "outputs": [
    {
     "data": {
      "text/html": [
       "<div>\n",
       "<style scoped>\n",
       "    .dataframe tbody tr th:only-of-type {\n",
       "        vertical-align: middle;\n",
       "    }\n",
       "\n",
       "    .dataframe tbody tr th {\n",
       "        vertical-align: top;\n",
       "    }\n",
       "\n",
       "    .dataframe thead th {\n",
       "        text-align: right;\n",
       "    }\n",
       "</style>\n",
       "<table border=\"1\" class=\"dataframe\">\n",
       "  <thead>\n",
       "    <tr style=\"text-align: right;\">\n",
       "      <th></th>\n",
       "      <th>ID</th>\n",
       "      <th>TimeStamp</th>\n",
       "      <th>Temperature</th>\n",
       "      <th>RelativeHumidity</th>\n",
       "      <th>Light</th>\n",
       "      <th>OxygenLevels</th>\n",
       "      <th>HumidityRatio</th>\n",
       "      <th>GTOccupancy</th>\n",
       "    </tr>\n",
       "  </thead>\n",
       "  <tbody>\n",
       "    <tr>\n",
       "      <th>0</th>\n",
       "      <td>2342</td>\n",
       "      <td>06-02-15 8:51</td>\n",
       "      <td>20.840</td>\n",
       "      <td>19.745000</td>\n",
       "      <td>433.0</td>\n",
       "      <td>629.750000</td>\n",
       "      <td>0.003000</td>\n",
       "      <td>1</td>\n",
       "    </tr>\n",
       "    <tr>\n",
       "      <th>1</th>\n",
       "      <td>6419</td>\n",
       "      <td>09-02-15 4:49</td>\n",
       "      <td>19.290</td>\n",
       "      <td>26.890000</td>\n",
       "      <td>0.0</td>\n",
       "      <td>466.000000</td>\n",
       "      <td>0.003716</td>\n",
       "      <td>0</td>\n",
       "    </tr>\n",
       "    <tr>\n",
       "      <th>2</th>\n",
       "      <td>3330</td>\n",
       "      <td>07-02-15 1:20</td>\n",
       "      <td>20.000</td>\n",
       "      <td>18.700000</td>\n",
       "      <td>0.0</td>\n",
       "      <td>435.500000</td>\n",
       "      <td>0.002696</td>\n",
       "      <td>0</td>\n",
       "    </tr>\n",
       "    <tr>\n",
       "      <th>3</th>\n",
       "      <td>7188</td>\n",
       "      <td>09-02-15 17:38</td>\n",
       "      <td>22.200</td>\n",
       "      <td>38.433333</td>\n",
       "      <td>429.5</td>\n",
       "      <td>1943.500000</td>\n",
       "      <td>0.006381</td>\n",
       "      <td>1</td>\n",
       "    </tr>\n",
       "    <tr>\n",
       "      <th>4</th>\n",
       "      <td>7655</td>\n",
       "      <td>10-02-15 1:25</td>\n",
       "      <td>20.245</td>\n",
       "      <td>32.900000</td>\n",
       "      <td>0.0</td>\n",
       "      <td>469.000000</td>\n",
       "      <td>0.004833</td>\n",
       "      <td>0</td>\n",
       "    </tr>\n",
       "    <tr>\n",
       "      <th>...</th>\n",
       "      <td>...</td>\n",
       "      <td>...</td>\n",
       "      <td>...</td>\n",
       "      <td>...</td>\n",
       "      <td>...</td>\n",
       "      <td>...</td>\n",
       "      <td>...</td>\n",
       "      <td>...</td>\n",
       "    </tr>\n",
       "    <tr>\n",
       "      <th>6509</th>\n",
       "      <td>7362</td>\n",
       "      <td>09-02-15 20:31</td>\n",
       "      <td>20.500</td>\n",
       "      <td>34.590000</td>\n",
       "      <td>0.0</td>\n",
       "      <td>868.500000</td>\n",
       "      <td>0.005164</td>\n",
       "      <td>0</td>\n",
       "    </tr>\n",
       "    <tr>\n",
       "      <th>6510</th>\n",
       "      <td>1591</td>\n",
       "      <td>05-02-15 20:21</td>\n",
       "      <td>21.200</td>\n",
       "      <td>19.340000</td>\n",
       "      <td>0.0</td>\n",
       "      <td>483.500000</td>\n",
       "      <td>0.003004</td>\n",
       "      <td>0</td>\n",
       "    </tr>\n",
       "    <tr>\n",
       "      <th>6511</th>\n",
       "      <td>4629</td>\n",
       "      <td>07-02-15 22:59</td>\n",
       "      <td>19.600</td>\n",
       "      <td>28.600000</td>\n",
       "      <td>0.0</td>\n",
       "      <td>435.000000</td>\n",
       "      <td>0.004031</td>\n",
       "      <td>0</td>\n",
       "    </tr>\n",
       "    <tr>\n",
       "      <th>6512</th>\n",
       "      <td>3657</td>\n",
       "      <td>07-02-15 6:47</td>\n",
       "      <td>19.760</td>\n",
       "      <td>19.230000</td>\n",
       "      <td>0.0</td>\n",
       "      <td>450.333333</td>\n",
       "      <td>0.002732</td>\n",
       "      <td>0</td>\n",
       "    </tr>\n",
       "    <tr>\n",
       "      <th>6513</th>\n",
       "      <td>7983</td>\n",
       "      <td>10-02-15 6:53</td>\n",
       "      <td>20.200</td>\n",
       "      <td>33.060000</td>\n",
       "      <td>0.0</td>\n",
       "      <td>443.333333</td>\n",
       "      <td>0.004843</td>\n",
       "      <td>0</td>\n",
       "    </tr>\n",
       "  </tbody>\n",
       "</table>\n",
       "<p>6514 rows × 8 columns</p>\n",
       "</div>"
      ],
      "text/plain": [
       "        ID       TimeStamp  Temperature  RelativeHumidity  Light  \\\n",
       "0     2342   06-02-15 8:51       20.840         19.745000  433.0   \n",
       "1     6419   09-02-15 4:49       19.290         26.890000    0.0   \n",
       "2     3330   07-02-15 1:20       20.000         18.700000    0.0   \n",
       "3     7188  09-02-15 17:38       22.200         38.433333  429.5   \n",
       "4     7655   10-02-15 1:25       20.245         32.900000    0.0   \n",
       "...    ...             ...          ...               ...    ...   \n",
       "6509  7362  09-02-15 20:31       20.500         34.590000    0.0   \n",
       "6510  1591  05-02-15 20:21       21.200         19.340000    0.0   \n",
       "6511  4629  07-02-15 22:59       19.600         28.600000    0.0   \n",
       "6512  3657   07-02-15 6:47       19.760         19.230000    0.0   \n",
       "6513  7983   10-02-15 6:53       20.200         33.060000    0.0   \n",
       "\n",
       "      OxygenLevels  HumidityRatio  GTOccupancy  \n",
       "0       629.750000       0.003000            1  \n",
       "1       466.000000       0.003716            0  \n",
       "2       435.500000       0.002696            0  \n",
       "3      1943.500000       0.006381            1  \n",
       "4       469.000000       0.004833            0  \n",
       "...            ...            ...          ...  \n",
       "6509    868.500000       0.005164            0  \n",
       "6510    483.500000       0.003004            0  \n",
       "6511    435.000000       0.004031            0  \n",
       "6512    450.333333       0.002732            0  \n",
       "6513    443.333333       0.004843            0  \n",
       "\n",
       "[6514 rows x 8 columns]"
      ]
     },
     "execution_count": 6,
     "metadata": {},
     "output_type": "execute_result"
    }
   ],
   "source": [
    "df.drop('ID', axis=1)\n",
    "df.reset_index(drop=True)\n",
    "df"
   ]
  },
  {
   "cell_type": "code",
   "execution_count": 7,
   "metadata": {},
   "outputs": [],
   "source": [
    "training_target_df=df.GTOccupancy[:4000]"
   ]
  },
  {
   "cell_type": "code",
   "execution_count": 8,
   "metadata": {},
   "outputs": [],
   "source": [
    "testing_target_df=df.GTOccupancy[4000:]"
   ]
  },
  {
   "cell_type": "code",
   "execution_count": 9,
   "metadata": {},
   "outputs": [
    {
     "data": {
      "text/plain": [
       "4000    1\n",
       "4001    0\n",
       "4002    1\n",
       "4003    0\n",
       "4004    0\n",
       "       ..\n",
       "6509    0\n",
       "6510    0\n",
       "6511    0\n",
       "6512    0\n",
       "6513    0\n",
       "Name: GTOccupancy, Length: 2514, dtype: int64"
      ]
     },
     "execution_count": 9,
     "metadata": {},
     "output_type": "execute_result"
    }
   ],
   "source": [
    "testing_target_df"
   ]
  },
  {
   "cell_type": "code",
   "execution_count": 10,
   "metadata": {},
   "outputs": [],
   "source": [
    "training_df=df.drop(['GTOccupancy', 'ID', 'TimeStamp'], axis=1)"
   ]
  },
  {
   "cell_type": "code",
   "execution_count": 11,
   "metadata": {},
   "outputs": [],
   "source": [
    "training_data_df=training_df[:4000]\n",
    "testing_data_df=training_df[4000:]"
   ]
  },
  {
   "cell_type": "code",
   "execution_count": 12,
   "metadata": {},
   "outputs": [],
   "source": [
    "from sklearn.linear_model import LogisticRegression"
   ]
  },
  {
   "cell_type": "code",
   "execution_count": 13,
   "metadata": {},
   "outputs": [],
   "source": [
    "model=LogisticRegression()"
   ]
  },
  {
   "cell_type": "code",
   "execution_count": 14,
   "metadata": {},
   "outputs": [
    {
     "data": {
      "text/plain": [
       "LogisticRegression()"
      ]
     },
     "execution_count": 14,
     "metadata": {},
     "output_type": "execute_result"
    }
   ],
   "source": [
    "model.fit(training_data_df, training_target_df)"
   ]
  },
  {
   "cell_type": "code",
   "execution_count": 15,
   "metadata": {},
   "outputs": [],
   "source": [
    "test_output=model.predict(testing_data_df)"
   ]
  },
  {
   "cell_type": "code",
   "execution_count": 16,
   "metadata": {},
   "outputs": [
    {
     "data": {
      "text/plain": [
       "array([1, 0, 1, ..., 0, 0, 0], dtype=int64)"
      ]
     },
     "execution_count": 16,
     "metadata": {},
     "output_type": "execute_result"
    }
   ],
   "source": [
    "test_output"
   ]
  },
  {
   "cell_type": "code",
   "execution_count": 17,
   "metadata": {},
   "outputs": [
    {
     "data": {
      "text/plain": [
       "(array([1, 0, 1, ..., 0, 0, 0], dtype=int64),\n",
       " 4000    1\n",
       " 4001    0\n",
       " 4002    1\n",
       " 4003    0\n",
       " 4004    0\n",
       "        ..\n",
       " 6509    0\n",
       " 6510    0\n",
       " 6511    0\n",
       " 6512    0\n",
       " 6513    0\n",
       " Name: GTOccupancy, Length: 2514, dtype: int64)"
      ]
     },
     "execution_count": 17,
     "metadata": {},
     "output_type": "execute_result"
    }
   ],
   "source": [
    "test_output,testing_target_df"
   ]
  },
  {
   "cell_type": "code",
   "execution_count": 18,
   "metadata": {},
   "outputs": [],
   "source": [
    "from sklearn.metrics import confusion_matrix, classification_report"
   ]
  },
  {
   "cell_type": "code",
   "execution_count": 19,
   "metadata": {},
   "outputs": [
    {
     "name": "stdout",
     "output_type": "stream",
     "text": [
      "              precision    recall  f1-score   support\n",
      "\n",
      "           0       1.00      0.98      0.99      1975\n",
      "           1       0.94      0.98      0.96       539\n",
      "\n",
      "    accuracy                           0.98      2514\n",
      "   macro avg       0.97      0.98      0.98      2514\n",
      "weighted avg       0.98      0.98      0.98      2514\n",
      "\n"
     ]
    }
   ],
   "source": [
    "print(classification_report(testing_target_df,test_output))"
   ]
  },
  {
   "cell_type": "code",
   "execution_count": 20,
   "metadata": {},
   "outputs": [
    {
     "data": {
      "text/plain": [
       "Text(69.0, 0.5, 'Truth')"
      ]
     },
     "execution_count": 20,
     "metadata": {},
     "output_type": "execute_result"
    },
    {
     "data": {
      "image/png": "[encoded data removed]",
      "text/plain": [
       "<Figure size 720x504 with 2 Axes>"
      ]
     },
     "metadata": {
      "needs_background": "light"
     },
     "output_type": "display_data"
    }
   ],
   "source": [
    "import tensorflow as tf\n",
    "import seaborn as sn\n",
    "cm = tf.math.confusion_matrix(labels=testing_target_df,predictions=test_output)\n",
    "\n",
    "plt.figure(figsize = (10,7))\n",
    "sn.heatmap(cm, annot=True, fmt='d')\n",
    "plt.xlabel('Predicted')\n",
    "plt.ylabel('Truth')"
   ]
  },
  {
   "cell_type": "code",
   "execution_count": 21,
   "metadata": {},
   "outputs": [
    {
     "data": {
      "text/plain": [
       "<module 'matplotlib.pyplot' from 'C:\\\\Users\\\\tijil\\\\anaconda3\\\\lib\\\\site-packages\\\\matplotlib\\\\pyplot.py'>"
      ]
     },
     "execution_count": 21,
     "metadata": {},
     "output_type": "execute_result"
    }
   ],
   "source": [
    "plt"
   ]
  }
 ],
 "metadata": {
  "kernelspec": {
   "display_name": "Python 3",
   "language": "python",
   "name": "python3"
  },
  "language_info": {
   "codemirror_mode": {
    "name": "ipython",
    "version": 3
   },
   "file_extension": ".py",
   "mimetype": "text/x-python",
   "name": "python",
   "nbconvert_exporter": "python",
   "pygments_lexer": "ipython3",
   "version": "3.8.3"
  }
 },
 "nbformat": 4,
 "nbformat_minor": 4
}
